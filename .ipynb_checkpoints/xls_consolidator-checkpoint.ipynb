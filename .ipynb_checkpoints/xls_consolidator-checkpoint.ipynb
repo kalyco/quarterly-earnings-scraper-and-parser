{
 "cells": [
  {
   "cell_type": "code",
   "execution_count": 70,
   "metadata": {},
   "outputs": [
    {
     "name": "stdout",
     "output_type": "stream",
     "text": [
      "<xlrd.sheet.Sheet object at 0x7fca39383fd0>\n",
      "number:103322.0\n"
     ]
    }
   ],
   "source": [
    "import xlrd\n",
    "import os\n",
    "import numpy as np\n",
    "import pandas as pd\n",
    "\n",
    "xls_files = os.listdir(os.getcwd() + '/reports')\n",
    "\n",
    "f = os.getcwd() + '/reports/' + xls_files[1]\n",
    "datas = pd.read_excel(f)\n",
    "datas\n",
    "\n",
    "xls = pd.ExcelFile(f)\n",
    "# workbook = xlrd.open_workbook(f)\n",
    "book = xlrd.open_workbook(file)\n",
    "sheet = book.sheet_by_name(\"results of operations\")\n",
    "print(sheet)\n",
    "# print(\"The number of worksheets is {0}\".format(book.nsheets))\n",
    "# print(xls.sheet_names)\n",
    "# df = pd.read_excel(f, sheet_name = 'results of operations')\n",
    "# print(df)\n",
    "\n",
    "# for xls_file_name in xls_files:\n",
    "#     if xls_file_name == '.DS_Store':\n",
    "#         continue\n",
    "    \n",
    "row_count = sheet.nrows\n",
    "col_count = sheet.ncols\n",
    "\n",
    "other_store_operating_expenses = []\n",
    "\n",
    "for cur_row in range(0, row_count):\n",
    "    for cur_col in range(0, col_count):\n",
    "        cell = sheet.cell(cur_row, cur_col)\n",
    "        if cell.value == \"Other store operating expenses\":\n",
    "            value = sheet.cell(cur_row, cur_col + 3)\n",
    "            other_store_operating_expenses.append(value)\n",
    "#         print(cell.value, cell.ctype)\n"
   ]
  },
  {
   "cell_type": "code",
   "execution_count": null,
   "metadata": {},
   "outputs": [],
   "source": []
  }
 ],
 "metadata": {
  "kernelspec": {
   "display_name": "Python 3",
   "language": "python",
   "name": "python3"
  },
  "language_info": {
   "codemirror_mode": {
    "name": "ipython",
    "version": 3
   },
   "file_extension": ".py",
   "mimetype": "text/x-python",
   "name": "python",
   "nbconvert_exporter": "python",
   "pygments_lexer": "ipython3",
   "version": "3.8.3"
  }
 },
 "nbformat": 4,
 "nbformat_minor": 4
}
