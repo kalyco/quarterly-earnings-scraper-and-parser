{
 "cells": [
  {
   "cell_type": "code",
   "execution_count": 42,
   "metadata": {},
   "outputs": [
    {
     "name": "stdout",
     "output_type": "stream",
     "text": [
      "dave_and_busters_earnings_2021_Q3.xls\n",
      "dave_and_busters_earnings_2021_Q2.xls\n",
      "dave_and_busters_earnings_2021_Q1.xls\n"
     ]
    }
   ],
   "source": [
    "import xlrd\n",
    "import os\n",
    "import numpy as np\n",
    "import pandas as pd\n",
    "\n",
    "xls_files = os.listdir(os.getcwd() + '/reports')\n",
    "# print(xls_files)\n",
    "\n",
    "f = os.getcwd() + '/reports/' + xls_files[1]\n",
    "\n",
    "# for xls_file_name in xls_files:\n",
    "#     if xls_file_name == '.DS_Store':\n",
    "#         continue\n",
    "#     print(xls_file_name)\n",
    "#     f = os.getcwd() + '/reports/' + xls_file_name\n",
    "#     print(f)\n",
    "#     workbook = xlrd.open_workbook(f)\n",
    "#     print(workbook.sheet_names()) \n",
    "#     pd.ExcelFile(r\"%s\" % f)\n",
    "#     print(f.sheet_names)\n",
    "    \n",
    "#     book = xlrd.open_workbook(file)\n",
    "#     print(\"The number of worksheets is {0}\".format(book.nsheets))"
   ]
  },
  {
   "cell_type": "code",
   "execution_count": null,
   "metadata": {},
   "outputs": [],
   "source": []
  }
 ],
 "metadata": {
  "kernelspec": {
   "display_name": "Python 3",
   "language": "python",
   "name": "python3"
  },
  "language_info": {
   "codemirror_mode": {
    "name": "ipython",
    "version": 3
   },
   "file_extension": ".py",
   "mimetype": "text/x-python",
   "name": "python",
   "nbconvert_exporter": "python",
   "pygments_lexer": "ipython3",
   "version": "3.8.3"
  }
 },
 "nbformat": 4,
 "nbformat_minor": 4
}
