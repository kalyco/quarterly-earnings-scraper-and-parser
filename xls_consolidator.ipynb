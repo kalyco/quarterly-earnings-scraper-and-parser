{
 "cells": [
  {
   "cell_type": "code",
   "execution_count": 53,
   "metadata": {},
   "outputs": [
    {
     "name": "stdout",
     "output_type": "stream",
     "text": [
      "                                           Unnamed: 0  Unnamed: 1  \\\n",
      "0                                   Table of Contents         NaN   \n",
      "1                                                 NaN         NaN   \n",
      "2                                                 NaN         NaN   \n",
      "3                                                 NaN         NaN   \n",
      "4                                                 NaN         NaN   \n",
      "5                                                 NaN         NaN   \n",
      "6                                          Numerator:         NaN   \n",
      "7                                   Net income (loss)         NaN   \n",
      "8                                        Denominator:         NaN   \n",
      "9   Weighted average number of common shares outst...         NaN   \n",
      "10  Weighted average dilutive impact of equity-bas...         NaN   \n",
      "11  Weighted average number of common and common e...         NaN   \n",
      "12                       Net income (loss) per share:         NaN   \n",
      "13                                              Basic         NaN   \n",
      "14                                            Diluted         NaN   \n",
      "\n",
      "        Unnamed: 2 Unnamed: 3  Unnamed: 4  Unnamed: 5      Unnamed: 6  \\\n",
      "0              NaN        NaN         NaN         NaN             NaN   \n",
      "1              NaN        NaN         NaN         NaN             NaN   \n",
      "2              NaN        NaN         NaN         NaN             NaN   \n",
      "3   Thirteen Weeks        NaN         NaN         NaN  Thirteen Weeks   \n",
      "4            Ended        NaN         NaN         NaN           Ended   \n",
      "5   August 2, 2020        NaN         NaN         NaN  August 4, 2019   \n",
      "6              NaN        NaN         NaN         NaN             NaN   \n",
      "7           -58602        NaN         NaN         NaN           32356   \n",
      "8              NaN        NaN         NaN         NaN             NaN   \n",
      "9              NaN   47111763         NaN         NaN             NaN   \n",
      "10             NaN          —         NaN         NaN             NaN   \n",
      "11             NaN   47111763         NaN         NaN             NaN   \n",
      "12             NaN        NaN         NaN         NaN             NaN   \n",
      "13           -1.24        NaN         NaN         NaN            0.91   \n",
      "14           -1.24        NaN         NaN         NaN             0.9   \n",
      "\n",
      "    Unnamed: 7  \n",
      "0          NaN  \n",
      "1          NaN  \n",
      "2          NaN  \n",
      "3          NaN  \n",
      "4          NaN  \n",
      "5          NaN  \n",
      "6          NaN  \n",
      "7          NaN  \n",
      "8          NaN  \n",
      "9   35407965.0  \n",
      "10    607745.0  \n",
      "11  36015710.0  \n",
      "12         NaN  \n",
      "13         NaN  \n",
      "14         NaN  \n"
     ]
    }
   ],
   "source": [
    "import xlrd\n",
    "import os\n",
    "import numpy as np\n",
    "import pandas as pd\n",
    "\n",
    "xls_files = os.listdir(os.getcwd() + '/reports')\n",
    "# print(xls_files)\n",
    "\n",
    "f = os.getcwd() + '/reports/' + xls_files[1]\n",
    "datas = pd.read_excel(f)\n",
    "datas\n",
    "\n",
    "xls = pd.ExcelFile(f)\n",
    "# workbook = xlrd.open_workbook(f)\n",
    "book = xlrd.open_workbook(file)\n",
    "# print(\"The number of worksheets is {0}\".format(book.nsheets))\n",
    "# print(xls.sheet_names['table of contents'])\n",
    "df = pd.read_excel(f, sheet_name = 'table of contents')\n",
    "print(df)\n",
    "\n",
    "# for xls_file_name in xls_files:\n",
    "#     if xls_file_name == '.DS_Store':\n",
    "#         continue\n",
    "#     print(xls_file_name)\n",
    "#     f = os.getcwd() + '/reports/' + xls_file_name\n",
    "#     print(f)\n",
    "#     workbook = xlrd.open_workbook(f)\n",
    "#     print(workbook.sheet_names()) \n",
    "#     pd.ExcelFile(r\"%s\" % f)\n",
    "#     print(f.sheet_names)\n",
    "    \n"
   ]
  },
  {
   "cell_type": "code",
   "execution_count": null,
   "metadata": {},
   "outputs": [],
   "source": []
  }
 ],
 "metadata": {
  "kernelspec": {
   "display_name": "Python 3",
   "language": "python",
   "name": "python3"
  },
  "language_info": {
   "codemirror_mode": {
    "name": "ipython",
    "version": 3
   },
   "file_extension": ".py",
   "mimetype": "text/x-python",
   "name": "python",
   "nbconvert_exporter": "python",
   "pygments_lexer": "ipython3",
   "version": "3.8.3"
  }
 },
 "nbformat": 4,
 "nbformat_minor": 4
}
